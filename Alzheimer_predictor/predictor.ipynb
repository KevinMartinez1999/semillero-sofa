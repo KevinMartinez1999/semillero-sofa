{
 "cells": [
  {
   "cell_type": "markdown",
   "metadata": {},
   "source": [
    "# Image-based Alzheimer's patient prediction model"
   ]
  },
  {
   "cell_type": "code",
   "execution_count": 1,
   "metadata": {},
   "outputs": [],
   "source": [
    "import numpy as np\n",
    "import cv2\n",
    "import tensorflow as tf\n",
    "import os\n"
   ]
  },
  {
   "cell_type": "markdown",
   "metadata": {},
   "source": [
    "## Preparation of training data"
   ]
  },
  {
   "cell_type": "code",
   "execution_count": 2,
   "metadata": {},
   "outputs": [],
   "source": [
    "X_train = []\n",
    "y_train = []\n"
   ]
  },
  {
   "cell_type": "code",
   "execution_count": 3,
   "metadata": {},
   "outputs": [],
   "source": [
    "dir_names = ['NonDemented', 'ModerateDemented',\n",
    "             'MildDemented', 'VeryMildDemented']\n",
    "for dir_name in dir_names:\n",
    "    for file_name in os.listdir('data\\\\train\\\\'+str(dir_name)):\n",
    "        path_name = os.path.join('data\\\\train\\\\'+str(dir_name), file_name)\n",
    "        im = cv2.imread(path_name)\n",
    "        im = cv2.resize(im, (224, 224))\n",
    "        im = cv2.cvtColor(im, cv2.COLOR_BGR2RGB)\n",
    "        X_train.append(im)\n",
    "        if (dir_name == 'NonDemented'):\n",
    "            y_train.append(0)\n",
    "        elif (dir_name == 'ModerateDemented'):\n",
    "            y_train.append(1)\n",
    "        elif (dir_name == 'MildDemented'):\n",
    "            y_train.append(2)\n",
    "        elif (dir_name == 'VeryMildDemented'):\n",
    "            y_train.append(3)\n",
    "\n",
    "X_train = np.array(X_train).astype('float32') / 255.0\n",
    "y_train = np.array(y_train)\n"
   ]
  },
  {
   "cell_type": "markdown",
   "metadata": {},
   "source": [
    "## Preparing of test data"
   ]
  },
  {
   "cell_type": "code",
   "execution_count": 4,
   "metadata": {},
   "outputs": [],
   "source": [
    "X_test = []\n",
    "y_test = []\n"
   ]
  },
  {
   "cell_type": "code",
   "execution_count": 5,
   "metadata": {},
   "outputs": [],
   "source": [
    "dir_names = ['NonDemented', 'ModerateDemented',\n",
    "             'MildDemented', 'VeryMildDemented']\n",
    "for dir_name in dir_names:\n",
    "    for file_name in os.listdir('data\\\\test\\\\'+str(dir_name)):\n",
    "        path_name = os.path.join('data\\\\test\\\\'+str(dir_name), file_name)\n",
    "        im = cv2.imread(path_name)\n",
    "        im = cv2.resize(im, (224, 224))\n",
    "        im = cv2.cvtColor(im, cv2.COLOR_BGR2RGB)\n",
    "        X_test.append(im)\n",
    "        if (dir_name == 'NonDemented'):\n",
    "            y_test.append(0)\n",
    "        elif (dir_name == 'ModerateDemented'):\n",
    "            y_test.append(1)\n",
    "        elif (dir_name == 'MildDemented'):\n",
    "            y_test.append(2)\n",
    "        elif (dir_name == 'VeryMildDemented'):\n",
    "            y_test.append(3)\n",
    "\n",
    "X_test = np.array(X_test).astype('float32') / 255.0\n",
    "y_test = np.array(y_test)\n"
   ]
  },
  {
   "cell_type": "markdown",
   "metadata": {},
   "source": [
    "## ANN Model"
   ]
  },
  {
   "cell_type": "code",
   "execution_count": 6,
   "metadata": {},
   "outputs": [
    {
     "name": "stdout",
     "output_type": "stream",
     "text": [
      "Epoch 1/10\n",
      "81/81 [==============================] - 178s 2s/step - loss: 1.0854 - accuracy: 0.4804 - val_loss: 0.9967 - val_accuracy: 0.5442\n",
      "Epoch 2/10\n",
      "81/81 [==============================] - 192s 2s/step - loss: 0.9448 - accuracy: 0.5497 - val_loss: 0.9257 - val_accuracy: 0.5145\n",
      "Epoch 3/10\n",
      "81/81 [==============================] - 196s 2s/step - loss: 0.8071 - accuracy: 0.6218 - val_loss: 0.9464 - val_accuracy: 0.5950\n",
      "Epoch 4/10\n",
      "81/81 [==============================] - 173s 2s/step - loss: 0.6645 - accuracy: 0.6973 - val_loss: 0.9157 - val_accuracy: 0.5778\n",
      "Epoch 5/10\n",
      "81/81 [==============================] - 168s 2s/step - loss: 0.4870 - accuracy: 0.7914 - val_loss: 0.9223 - val_accuracy: 0.6216\n",
      "Epoch 6/10\n",
      "81/81 [==============================] - 168s 2s/step - loss: 0.3780 - accuracy: 0.8434 - val_loss: 1.5122 - val_accuracy: 0.4926\n",
      "Epoch 7/10\n",
      "81/81 [==============================] - 191s 2s/step - loss: 0.3987 - accuracy: 0.8348 - val_loss: 1.0022 - val_accuracy: 0.6200\n",
      "Epoch 8/10\n",
      "81/81 [==============================] - 175s 2s/step - loss: 0.3116 - accuracy: 0.8709 - val_loss: 1.2871 - val_accuracy: 0.6278\n",
      "Epoch 9/10\n",
      "81/81 [==============================] - 159s 2s/step - loss: 0.2198 - accuracy: 0.9149 - val_loss: 1.4032 - val_accuracy: 0.5981\n",
      "Epoch 10/10\n",
      "81/81 [==============================] - 159s 2s/step - loss: 0.2216 - accuracy: 0.9186 - val_loss: 1.4332 - val_accuracy: 0.6255\n"
     ]
    }
   ],
   "source": [
    "model = tf.keras.Sequential([\n",
    "    tf.keras.layers.Conv2D(32, (3, 3), activation='relu',\n",
    "                           input_shape=(224, 224, 3)),\n",
    "    tf.keras.layers.MaxPooling2D((2, 2)),\n",
    "    tf.keras.layers.Conv2D(64, (3, 3), activation='relu'),\n",
    "    tf.keras.layers.MaxPooling2D((2, 2)),\n",
    "    tf.keras.layers.Conv2D(64, (3, 3), activation='relu'),\n",
    "    tf.keras.layers.MaxPooling2D((2, 2)),\n",
    "    tf.keras.layers.Flatten(),\n",
    "    tf.keras.layers.Dense(128, activation='relu'),\n",
    "    tf.keras.layers.Dropout(0.5),\n",
    "    tf.keras.layers.Dense(4, activation='softmax')\n",
    "])\n",
    "\n",
    "model.compile(\n",
    "    optimizer='adam',\n",
    "    loss='sparse_categorical_crossentropy',\n",
    "    metrics=['accuracy']\n",
    ")\n",
    "\n",
    "history = model.fit(\n",
    "    X_train,\n",
    "    y_train,\n",
    "    epochs=10,\n",
    "    batch_size=64,\n",
    "    validation_data=(X_test, y_test)\n",
    ")\n"
   ]
  },
  {
   "cell_type": "code",
   "execution_count": 7,
   "metadata": {},
   "outputs": [
    {
     "name": "stdout",
     "output_type": "stream",
     "text": [
      "40/40 [==============================] - 11s 270ms/step - loss: 1.4332 - accuracy: 0.6255\n"
     ]
    },
    {
     "data": {
      "text/plain": [
       "[1.4332011938095093, 0.6254886388778687]"
      ]
     },
     "execution_count": 7,
     "metadata": {},
     "output_type": "execute_result"
    }
   ],
   "source": [
    "model.evaluate(X_test, y_test)\n"
   ]
  }
 ],
 "metadata": {
  "kernelspec": {
   "display_name": "base",
   "language": "python",
   "name": "python3"
  },
  "language_info": {
   "codemirror_mode": {
    "name": "ipython",
    "version": 3
   },
   "file_extension": ".py",
   "mimetype": "text/x-python",
   "name": "python",
   "nbconvert_exporter": "python",
   "pygments_lexer": "ipython3",
   "version": "3.11.3"
  },
  "orig_nbformat": 4
 },
 "nbformat": 4,
 "nbformat_minor": 2
}
